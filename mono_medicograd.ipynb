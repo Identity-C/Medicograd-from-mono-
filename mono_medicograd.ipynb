{
 "cells": [
  {
   "cell_type": "code",
   "execution_count": 2,
   "id": "1351fb0b",
   "metadata": {},
   "outputs": [
    {
     "name": "stdout",
     "output_type": "stream",
     "text": [
      "Accuracy: 0.8559944878272853\n",
      "              precision    recall  f1-score   support\n",
      "\n",
      "        ADHD       0.88      0.89      0.88      2044\n",
      "         OCD       0.90      0.90      0.90      2576\n",
      "   aspergers       0.78      0.78      0.78      1286\n",
      "  depression       0.77      0.84      0.80      1440\n",
      "        ptsd       0.90      0.81      0.86      1362\n",
      "\n",
      "    accuracy                           0.86      8708\n",
      "   macro avg       0.85      0.84      0.85      8708\n",
      "weighted avg       0.86      0.86      0.86      8708\n",
      "\n"
     ]
    }
   ],
   "source": [
    "import pandas as pd\n",
    "from sklearn.feature_extraction.text import TfidfVectorizer\n",
    "from sklearn.svm import SVC\n",
    "from sklearn.model_selection import train_test_split\n",
    "from sklearn.metrics import accuracy_score, classification_report\n",
    "\n",
    "data = pd.read_csv('dataset.csv')\n",
    "\n",
    "sampled_data = data.sample(frac=0.5, random_state=42) # test on 50% of data\n",
    "\n",
    "X = sampled_data['transcript']  \n",
    "y = sampled_data['topic'] \n",
    "\n",
    "\n",
    "X_train, X_test, y_train, y_test = train_test_split(X, y, test_size=0.2, random_state=42)\n",
    "\n",
    "vectorizer = TfidfVectorizer()\n",
    "X_train_vectorized = vectorizer.fit_transform(X_train)\n",
    "X_test_vectorized = vectorizer.transform(X_test)\n",
    "\n",
    "svm_model = SVC(kernel='linear', C=1.0, random_state=42)\n",
    "svm_model.fit(X_train_vectorized, y_train)\n",
    "\n",
    "y_pred = svm_model.predict(X_test_vectorized)\n",
    "accuracy = accuracy_score(y_test, y_pred)\n",
    "print(f'Accuracy: {accuracy}')\n",
    "print(classification_report(y_test, y_pred))\n"
   ]
  },
  {
   "cell_type": "code",
   "execution_count": 3,
   "id": "213397bc",
   "metadata": {},
   "outputs": [
    {
     "name": "stdout",
     "output_type": "stream",
     "text": [
      "Chatbot: Hello! I'm a medical chatbot. Please type your patient's transcript.\n",
      "User: feeling sad\n",
      "Chatbot: The predicted disease for the patient is depression.\n",
      "User: not giving attention\n",
      "Chatbot: The predicted disease for the patient is ADHD.\n",
      "User: getting frequent nightmares\n",
      "Chatbot: The predicted disease for the patient is ptsd.\n",
      "User: getting too much into same stuff\n",
      "Chatbot: The predicted disease for the patient is ADHD.\n",
      "User: having obessions \n",
      "Chatbot: The predicted disease for the patient is aspergers.\n",
      "User: exit\n",
      "Chatbot: Goodbye!\n"
     ]
    }
   ],
   "source": [
    "def get_user_input():\n",
    "    return input(\"User: \")\n",
    "\n",
    "def get_bot_response(user_input):\n",
    "    user_input_vectorized = vectorizer.transform([user_input])\n",
    "\n",
    "    predicted_label = svm_model.predict(user_input_vectorized)[0]\n",
    "\n",
    "    return predicted_label\n",
    "\n",
    "print(\"Chatbot: Hello! I'm a medical chatbot. Please type your patient's transcript.\")\n",
    "while True:\n",
    "    user_input = get_user_input()\n",
    "\n",
    "    if user_input.lower() in ['exit', 'quit', 'bye']:\n",
    "        print(\"Chatbot: Goodbye!\")\n",
    "        break\n",
    "\n",
    "    predicted_disease = get_bot_response(user_input)\n",
    "\n",
    "    print(f\"Chatbot: The predicted disease for the patient is {predicted_disease}.\")\n"
   ]
  },
  {
   "cell_type": "code",
   "execution_count": null,
   "id": "e52ca102",
   "metadata": {},
   "outputs": [],
   "source": []
  }
 ],
 "metadata": {
  "kernelspec": {
   "display_name": "Python 3 (ipykernel)",
   "language": "python",
   "name": "python3"
  },
  "language_info": {
   "codemirror_mode": {
    "name": "ipython",
    "version": 3
   },
   "file_extension": ".py",
   "mimetype": "text/x-python",
   "name": "python",
   "nbconvert_exporter": "python",
   "pygments_lexer": "ipython3",
   "version": "3.8.16"
  }
 },
 "nbformat": 4,
 "nbformat_minor": 5
}
