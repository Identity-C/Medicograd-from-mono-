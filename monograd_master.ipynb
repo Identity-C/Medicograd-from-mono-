{
 "cells": [
  {
   "cell_type": "code",
   "execution_count": 1,
   "id": "3bbde0cd",
   "metadata": {},
   "outputs": [],
   "source": [
    "import pandas as pd\n",
    "from sklearn.feature_extraction.text import TfidfVectorizer\n",
    "from sklearn.svm import SVC\n",
    "from sklearn.model_selection import train_test_split\n",
    "from sklearn.metrics import accuracy_score, classification_report"
   ]
  },
  {
   "cell_type": "code",
   "execution_count": 2,
   "id": "d19379ab",
   "metadata": {},
   "outputs": [],
   "source": [
    "data = pd.read_csv('dataset.csv') "
   ]
  },
  {
   "cell_type": "code",
   "execution_count": 4,
   "id": "989e865d",
   "metadata": {},
   "outputs": [
    {
     "data": {
      "text/html": [
       "<div>\n",
       "<style scoped>\n",
       "    .dataframe tbody tr th:only-of-type {\n",
       "        vertical-align: middle;\n",
       "    }\n",
       "\n",
       "    .dataframe tbody tr th {\n",
       "        vertical-align: top;\n",
       "    }\n",
       "\n",
       "    .dataframe thead th {\n",
       "        text-align: right;\n",
       "    }\n",
       "</style>\n",
       "<table border=\"1\" class=\"dataframe\">\n",
       "  <thead>\n",
       "    <tr style=\"text-align: right;\">\n",
       "      <th></th>\n",
       "      <th>Unnamed: 0</th>\n",
       "      <th>topic</th>\n",
       "      <th>transcript</th>\n",
       "    </tr>\n",
       "  </thead>\n",
       "  <tbody>\n",
       "    <tr>\n",
       "      <th>0</th>\n",
       "      <td>0</td>\n",
       "      <td>depression</td>\n",
       "      <td>title:I feel like I'm working backwards\\ntext:...</td>\n",
       "    </tr>\n",
       "    <tr>\n",
       "      <th>1</th>\n",
       "      <td>1</td>\n",
       "      <td>ADHD</td>\n",
       "      <td>title:How do you deal with your schedule getti...</td>\n",
       "    </tr>\n",
       "    <tr>\n",
       "      <th>2</th>\n",
       "      <td>2</td>\n",
       "      <td>OCD</td>\n",
       "      <td>title:I don't know what I am anymore (HOCD)\\nt...</td>\n",
       "    </tr>\n",
       "  </tbody>\n",
       "</table>\n",
       "</div>"
      ],
      "text/plain": [
       "   Unnamed: 0       topic                                         transcript\n",
       "0           0  depression  title:I feel like I'm working backwards\\ntext:...\n",
       "1           1        ADHD  title:How do you deal with your schedule getti...\n",
       "2           2         OCD  title:I don't know what I am anymore (HOCD)\\nt..."
      ]
     },
     "execution_count": 4,
     "metadata": {},
     "output_type": "execute_result"
    }
   ],
   "source": [
    "data.head(3)"
   ]
  },
  {
   "cell_type": "code",
   "execution_count": 5,
   "id": "72b0ebf1",
   "metadata": {},
   "outputs": [],
   "source": [
    "X = data['transcript']\n",
    "y = data['topic']\n",
    "\n",
    "X_train, X_test, y_train, y_test = train_test_split(X, y, test_size=0.2, random_state=42)"
   ]
  },
  {
   "cell_type": "code",
   "execution_count": 6,
   "id": "8d0865c0",
   "metadata": {},
   "outputs": [],
   "source": [
    "vectorizer = TfidfVectorizer()\n",
    "X_train_vectorized = vectorizer.fit_transform(X_train)\n",
    "X_test_vectorized = vectorizer.transform(X_test)"
   ]
  },
  {
   "cell_type": "code",
   "execution_count": 7,
   "id": "85b9457f",
   "metadata": {},
   "outputs": [
    {
     "data": {
      "text/html": [
       "<style>#sk-container-id-1 {color: black;background-color: white;}#sk-container-id-1 pre{padding: 0;}#sk-container-id-1 div.sk-toggleable {background-color: white;}#sk-container-id-1 label.sk-toggleable__label {cursor: pointer;display: block;width: 100%;margin-bottom: 0;padding: 0.3em;box-sizing: border-box;text-align: center;}#sk-container-id-1 label.sk-toggleable__label-arrow:before {content: \"▸\";float: left;margin-right: 0.25em;color: #696969;}#sk-container-id-1 label.sk-toggleable__label-arrow:hover:before {color: black;}#sk-container-id-1 div.sk-estimator:hover label.sk-toggleable__label-arrow:before {color: black;}#sk-container-id-1 div.sk-toggleable__content {max-height: 0;max-width: 0;overflow: hidden;text-align: left;background-color: #f0f8ff;}#sk-container-id-1 div.sk-toggleable__content pre {margin: 0.2em;color: black;border-radius: 0.25em;background-color: #f0f8ff;}#sk-container-id-1 input.sk-toggleable__control:checked~div.sk-toggleable__content {max-height: 200px;max-width: 100%;overflow: auto;}#sk-container-id-1 input.sk-toggleable__control:checked~label.sk-toggleable__label-arrow:before {content: \"▾\";}#sk-container-id-1 div.sk-estimator input.sk-toggleable__control:checked~label.sk-toggleable__label {background-color: #d4ebff;}#sk-container-id-1 div.sk-label input.sk-toggleable__control:checked~label.sk-toggleable__label {background-color: #d4ebff;}#sk-container-id-1 input.sk-hidden--visually {border: 0;clip: rect(1px 1px 1px 1px);clip: rect(1px, 1px, 1px, 1px);height: 1px;margin: -1px;overflow: hidden;padding: 0;position: absolute;width: 1px;}#sk-container-id-1 div.sk-estimator {font-family: monospace;background-color: #f0f8ff;border: 1px dotted black;border-radius: 0.25em;box-sizing: border-box;margin-bottom: 0.5em;}#sk-container-id-1 div.sk-estimator:hover {background-color: #d4ebff;}#sk-container-id-1 div.sk-parallel-item::after {content: \"\";width: 100%;border-bottom: 1px solid gray;flex-grow: 1;}#sk-container-id-1 div.sk-label:hover label.sk-toggleable__label {background-color: #d4ebff;}#sk-container-id-1 div.sk-serial::before {content: \"\";position: absolute;border-left: 1px solid gray;box-sizing: border-box;top: 0;bottom: 0;left: 50%;z-index: 0;}#sk-container-id-1 div.sk-serial {display: flex;flex-direction: column;align-items: center;background-color: white;padding-right: 0.2em;padding-left: 0.2em;position: relative;}#sk-container-id-1 div.sk-item {position: relative;z-index: 1;}#sk-container-id-1 div.sk-parallel {display: flex;align-items: stretch;justify-content: center;background-color: white;position: relative;}#sk-container-id-1 div.sk-item::before, #sk-container-id-1 div.sk-parallel-item::before {content: \"\";position: absolute;border-left: 1px solid gray;box-sizing: border-box;top: 0;bottom: 0;left: 50%;z-index: -1;}#sk-container-id-1 div.sk-parallel-item {display: flex;flex-direction: column;z-index: 1;position: relative;background-color: white;}#sk-container-id-1 div.sk-parallel-item:first-child::after {align-self: flex-end;width: 50%;}#sk-container-id-1 div.sk-parallel-item:last-child::after {align-self: flex-start;width: 50%;}#sk-container-id-1 div.sk-parallel-item:only-child::after {width: 0;}#sk-container-id-1 div.sk-dashed-wrapped {border: 1px dashed gray;margin: 0 0.4em 0.5em 0.4em;box-sizing: border-box;padding-bottom: 0.4em;background-color: white;}#sk-container-id-1 div.sk-label label {font-family: monospace;font-weight: bold;display: inline-block;line-height: 1.2em;}#sk-container-id-1 div.sk-label-container {text-align: center;}#sk-container-id-1 div.sk-container {/* jupyter's `normalize.less` sets `[hidden] { display: none; }` but bootstrap.min.css set `[hidden] { display: none !important; }` so we also need the `!important` here to be able to override the default hidden behavior on the sphinx rendered scikit-learn.org. See: https://github.com/scikit-learn/scikit-learn/issues/21755 */display: inline-block !important;position: relative;}#sk-container-id-1 div.sk-text-repr-fallback {display: none;}</style><div id=\"sk-container-id-1\" class=\"sk-top-container\"><div class=\"sk-text-repr-fallback\"><pre>SVC(kernel=&#x27;linear&#x27;, random_state=42)</pre><b>In a Jupyter environment, please rerun this cell to show the HTML representation or trust the notebook. <br />On GitHub, the HTML representation is unable to render, please try loading this page with nbviewer.org.</b></div><div class=\"sk-container\" hidden><div class=\"sk-item\"><div class=\"sk-estimator sk-toggleable\"><input class=\"sk-toggleable__control sk-hidden--visually\" id=\"sk-estimator-id-1\" type=\"checkbox\" checked><label for=\"sk-estimator-id-1\" class=\"sk-toggleable__label sk-toggleable__label-arrow\">SVC</label><div class=\"sk-toggleable__content\"><pre>SVC(kernel=&#x27;linear&#x27;, random_state=42)</pre></div></div></div></div></div>"
      ],
      "text/plain": [
       "SVC(kernel='linear', random_state=42)"
      ]
     },
     "execution_count": 7,
     "metadata": {},
     "output_type": "execute_result"
    }
   ],
   "source": [
    "svm_model = SVC(kernel='linear', C=1.0, random_state=42)\n",
    "svm_model.fit(X_train_vectorized, y_train)"
   ]
  },
  {
   "cell_type": "code",
   "execution_count": 8,
   "id": "a938f632",
   "metadata": {},
   "outputs": [
    {
     "name": "stdout",
     "output_type": "stream",
     "text": [
      "Accuracy: 0.8708084519981626\n",
      "              precision    recall  f1-score   support\n",
      "\n",
      "        ADHD       0.90      0.89      0.90      4128\n",
      "         OCD       0.92      0.91      0.92      5182\n",
      "   aspergers       0.80      0.82      0.81      2654\n",
      "  depression       0.79      0.85      0.82      2774\n",
      "        ptsd       0.89      0.82      0.86      2678\n",
      "\n",
      "    accuracy                           0.87     17416\n",
      "   macro avg       0.86      0.86      0.86     17416\n",
      "weighted avg       0.87      0.87      0.87     17416\n",
      "\n"
     ]
    }
   ],
   "source": [
    "y_pred = svm_model.predict(X_test_vectorized)\n",
    "\n",
    "accuracy = accuracy_score(y_test, y_pred)\n",
    "print(f'Accuracy: {accuracy}')\n",
    "\n",
    "print(classification_report(y_test, y_pred))"
   ]
  },
  {
   "cell_type": "code",
   "execution_count": 10,
   "id": "2b2071c7",
   "metadata": {},
   "outputs": [
    {
     "data": {
      "text/plain": [
       "['svm_model.sav']"
      ]
     },
     "execution_count": 10,
     "metadata": {},
     "output_type": "execute_result"
    }
   ],
   "source": [
    "import joblib\n",
    "filename = 'svm_model.sav'\n",
    "joblib.dump(svm_model, filename)"
   ]
  },
  {
   "cell_type": "code",
   "execution_count": 11,
   "id": "a69cf5de",
   "metadata": {},
   "outputs": [
    {
     "name": "stdout",
     "output_type": "stream",
     "text": [
      "Chatbot: Hello! I'm a medical chatbot. Please type your patient's transcript.\n",
      "User: You know, there are these thoughts that keep creeping into my mind, like unwelcome guests at a party. They linger, refusing to leave, and it's exhausting. It's as if my mind has a mind of its own, playing these never-ending loops of worries and doubts.  I find myself checking things repeatedly, like the stove or the locked door, even though I know deep down that they're secure. But my mind won't rest until I've performed these rituals, leaving me feeling trapped in this endless cycle.  Every little detail matters, and I get so caught up in trying to get everything just right. It's like my mind is stuck in overdrive, unable to hit the brakes. And even when I manage to complete one task, there's always another waiting, demanding my attention.  Sometimes, I try to resist these thoughts and urges, but it's like fighting against a strong current. The anxiety builds up, and I'm left feeling overwhelmed and anxious. I wish I could just let go and be free from these thoughts, but they've become a constant companion in my life.  I know it might seem strange to others, and I feel embarrassed about it. I don't want to burden anyone with my struggles, so I try to hide it as best as I can. But deep down, I know that something isn't right.  I long for a sense of peace and tranquility, where I can break free from these intrusive thoughts. I want to feel in control of my own mind, not held hostage by these relentless patterns.  It's a battle every day, trying to find balance amidst the chaos within. I want to live a life free from this constant turmoil, where I can embrace spontaneity and not be bound by these rituals.  But until then, I'll keep pushing forward, seeking ways to manage and cope with these thoughts that refuse to let go. I know I'm not alone in this struggle, and maybe one day, I'll find the strength to break free from this invisible prison.\n",
      "Chatbot: The predicted disease for the patient is OCD.\n",
      "User: As I observed the behavior of this young individual, it became evident that they possess a unique and energetic spirit. Their mind seems to be in constant motion, like a whirlwind of thoughts and ideas. Sitting still for prolonged periods is quite a challenge for them, as they fidget and squirm in their seat, always seeking movement.  I noticed that they have a tendency to become easily distracted, finding it difficult to maintain focus on a single task for too long. Their attention seems to be pulled in multiple directions, effortlessly transitioning from one activity to another, often without completing the initial one.  Engaging in conversations with them is an adventure in itself, as they often interrupt and struggle to wait their turn to speak. Patience and restraint are not their strongest suits, but their enthusiasm is undeniable. They show immense excitement and enthusiasm for activities that pique their interest, becoming fully engrossed in these moments.  Despite these challenges, I was impressed by their creativity and imagination. Their thoughts are expansive, thinking outside the box, and coming up with innovative ideas that others might not even consider. However, organizing and expressing these ideas coherently can be a bit of a struggle for them.  Additionally, I noticed a certain impulsiveness in their actions. They tend to act on their instincts and desires without much forethought, which sometimes leads to impromptu decisions that may not always be ideal.  In summary, this young individual exhibits a vibrant and energetic personality, possessing a multitude of strengths and challenges. Their unique way of perceiving the world and navigating through life's tasks requires patience, understanding, and a tailored approach to support their growth and development.\n",
      "Chatbot: The predicted disease for the patient is ADHD.\n",
      "User: You know, life is like this vast ocean of experiences, and sometimes, I feel like I'm navigating through it on my own little boat. It's like everyone else has these huge ships with well-defined paths, and there I am, trying to find my way with my little boat, facing waves and currents that others might not understand.  People often say that I'm different, and I guess they're right. I see the world in a unique way, noticing the tiniest details that others might overlook. It's like I have a heightened sense of everything around me – the sounds, the colors, the textures – they all seem so vivid, almost overwhelming at times.  Social situations can be a bit tricky for me. I often struggle to understand the unspoken rules that seem to come naturally to others. Small talk, for example, feels like an intricate dance that I can never quite master. But you know what? I've learned to embrace my quirks and find comfort in the solitude of my thoughts.  I find solace in my special interests, diving deep into subjects that captivate me. It's like falling into a rabbit hole of knowledge, and I can spend hours, even days, exploring and learning. And when I talk about those topics, oh, the passion in my voice! It's like I'm on fire, and my words just flow effortlessly.  Sometimes, the world can be overwhelming, and I need to retreat into my own little bubble to recharge. It's not that I don't want to be a part of things; it's just that I need some time to process everything that's going on around me.  Despite the challenges, there's a beauty in being different. I see patterns and connections that others might not see, and it gives me a unique perspective on life. Yes, I might struggle with certain things, but I also bring something special to the table.  So, even though life's ocean might be rough, I'm sailing on, embracing the waves, and finding my way with my little boat. And you know what? I wouldn't have it any other way.\n",
      "Chatbot: The predicted disease for the patient is aspergers.\n",
      "User: In my mind, there's a constant battle between the past and the present. Memories, vivid and haunting, resurface like relentless waves crashing against the shore. Each time, I try to push them away, but they have a way of engulfing me, drowning me in their suffocating embrace.  I find myself trapped in a monologue of fear and anxiety, where the past events replay like a broken record. The darkness that once engulfed me still lingers, and I struggle to find the light. It's as if I'm stuck in a never-ending loop, reliving the horrors I wish to forget.  The weight of the past burdens my soul, and I feel like an outsider, disconnected from the world around me. I try to put on a brave face, but inside, I'm shattered, fragmented by the memories that refuse to let go.  I yearn for peace, for a mind free from the shackles of the past. Yet, it seems impossible to escape this monologue that plays on an endless loop. I'm lost in a maze of emotions, trying to navigate my way back to a sense of normalcy.  Every day is a struggle, a battle within myself. I wish I could escape this monologue, find solace in the present, and embrace a future free from the ghosts that haunt me. But until then, I remain trapped in this silent, relentless monologue of pain and anguish.\n",
      "Chatbot: The predicted disease for the patient is ptsd.\n",
      "User: Sometimes, life feels like an endless labyrinth, filled with dark corners and no way out. It's as if a heavy fog has engulfed my mind, clouding my thoughts and drowning me in a sea of emotions. Each day becomes a struggle to find meaning or purpose, and even the simplest tasks feel like mountains to climb.  There's this constant ache deep within me, an emptiness that no amount of laughter or distractions can fill. I try to put on a brave face, to show the world that everything is okay, but beneath the facade, I'm crumbling like a fragile piece of paper.  It's like I'm trapped in a never-ending loop of negative thoughts, unable to break free. Each passing moment weighs heavily on my soul, and the weight becomes unbearable. Happiness feels like a distant memory, a forgotten dream that once brought warmth to my heart.  I see others around me seemingly content and carefree, and I wonder what it's like to live without this perpetual darkness hanging over me. I long for the days when laughter came easily, when joy felt like second nature. Now, it's an elusive mirage, always just out of reach.  It's not just a temporary sadness that will pass with time. No, it's something deeper, something that wraps its cold fingers around my heart and refuses to let go. And the worst part is, I don't know how to escape this suffocating grip.  I want to break free from this mental prison, to find a glimmer of hope in the darkness. But it's hard when you don't even know where to begin. The journey to healing seems daunting, and I feel so alone, even in a crowd of people.  But somewhere, deep down, I hold on to a flicker of hope, a tiny spark that maybe, just maybe, there's a way to find light again. I yearn for that day when I can breathe freely, when the weight on my chest dissipates, and the world doesn't feel so overwhelming.  For now, I'll take small steps, seeking solace in the little things that bring temporary relief. And maybe, in time, I'll find the strength to face this darkness head-on and emerge on the other side, stronger and wiser.\n"
     ]
    },
    {
     "name": "stdout",
     "output_type": "stream",
     "text": [
      "Chatbot: The predicted disease for the patient is depression.\n",
      "User: exit\n",
      "Chatbot: Goodbye!\n"
     ]
    }
   ],
   "source": [
    "def get_user_input():\n",
    "    return input(\"User: \")\n",
    "\n",
    "def get_bot_response(user_input):\n",
    "    user_input_vectorized = vectorizer.transform([user_input])\n",
    "\n",
    "    predicted_label = svm_model.predict(user_input_vectorized)[0]\n",
    "\n",
    "    return predicted_label\n",
    "\n",
    "\n",
    "print(\"Chatbot: Hello! I'm a medical chatbot. Please type your patient's transcript.\")\n",
    "while True:\n",
    "    user_input = get_user_input()\n",
    "\n",
    "    if user_input.lower() in ['exit', 'quit', 'bye']:\n",
    "        print(\"Chatbot: Goodbye!\")\n",
    "        break\n",
    "\n",
    "    predicted_disease = get_bot_response(user_input)\n",
    "    print(f\"Chatbot: The predicted disease for the patient is {predicted_disease}.\")\n"
   ]
  },
  {
   "cell_type": "code",
   "execution_count": null,
   "id": "63a12117",
   "metadata": {},
   "outputs": [],
   "source": []
  }
 ],
 "metadata": {
  "kernelspec": {
   "display_name": "Python 3 (ipykernel)",
   "language": "python",
   "name": "python3"
  },
  "language_info": {
   "codemirror_mode": {
    "name": "ipython",
    "version": 3
   },
   "file_extension": ".py",
   "mimetype": "text/x-python",
   "name": "python",
   "nbconvert_exporter": "python",
   "pygments_lexer": "ipython3",
   "version": "3.8.16"
  }
 },
 "nbformat": 4,
 "nbformat_minor": 5
}
